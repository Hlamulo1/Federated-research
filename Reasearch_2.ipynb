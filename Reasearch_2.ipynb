{
  "cells": [
    {
      "cell_type": "markdown",
      "metadata": {
        "id": "view-in-github",
        "colab_type": "text"
      },
      "source": [
        "<a href=\"https://colab.research.google.com/github/Hlamulo1/Federated-research/blob/main/Reasearch_2.ipynb\" target=\"_parent\"><img src=\"https://colab.research.google.com/assets/colab-badge.svg\" alt=\"Open In Colab\"/></a>"
      ]
    },
    {
      "cell_type": "markdown",
      "metadata": {
        "id": "bW4zw-4zt_Ri"
      },
      "source": [
        "# Importing libraires"
      ]
    },
    {
      "cell_type": "code",
      "execution_count": null,
      "metadata": {
        "id": "_IsWIhywt_Rk"
      },
      "outputs": [],
      "source": [
        "import pandas as pd\n",
        "import numpy as np\n",
        "import matplotlib.pyplot as plt\n",
        "import seaborn as sns"
      ]
    },
    {
      "cell_type": "code",
      "source": [
        "!pip install pandas"
      ],
      "metadata": {
        "colab": {
          "base_uri": "https://localhost:8080/"
        },
        "id": "X1lcfI2RuCvs",
        "outputId": "8eb8721b-5d9b-44c9-db10-0b42898cd15c"
      },
      "execution_count": null,
      "outputs": [
        {
          "output_type": "stream",
          "name": "stdout",
          "text": [
            "Requirement already satisfied: pandas in /usr/local/lib/python3.10/dist-packages (1.5.3)\n",
            "Requirement already satisfied: python-dateutil>=2.8.1 in /usr/local/lib/python3.10/dist-packages (from pandas) (2.8.2)\n",
            "Requirement already satisfied: pytz>=2020.1 in /usr/local/lib/python3.10/dist-packages (from pandas) (2023.3)\n",
            "Requirement already satisfied: numpy>=1.21.0 in /usr/local/lib/python3.10/dist-packages (from pandas) (1.23.5)\n",
            "Requirement already satisfied: six>=1.5 in /usr/local/lib/python3.10/dist-packages (from python-dateutil>=2.8.1->pandas) (1.16.0)\n"
          ]
        }
      ]
    },
    {
      "cell_type": "markdown",
      "metadata": {
        "id": "339kA6tOt_Rk"
      },
      "source": [
        "## Exploring the malware dataset. <br/>\n",
        "Malware Dataset:https://github.com/PacktPublishing/Mastering-Machine-Learning-for-Penetration-Testing/blob/master/Chapter03/MalwareData.csv.gz <br/>\n",
        "<br/>\n",
        "* 41,323 binaries (exe ,dll) - legitimate\n",
        "* 96,724 malware files from virusshare.com\n"
      ]
    },
    {
      "cell_type": "code",
      "execution_count": null,
      "metadata": {
        "colab": {
          "base_uri": "https://localhost:8080/"
        },
        "id": "D_FUL3aTt_Rl",
        "outputId": "8386540c-dc00-4cbe-d8ea-f60299375925"
      },
      "outputs": [
        {
          "output_type": "stream",
          "name": "stdout",
          "text": [
            "Drive already mounted at /content/drive; to attempt to forcibly remount, call drive.mount(\"/content/drive\", force_remount=True).\n"
          ]
        }
      ],
      "source": [
        "from google.colab import drive\n",
        "drive.mount('/content/drive')"
      ]
    },
    {
      "cell_type": "code",
      "source": [
        "%cd '/content/drive/My Drive/MalwareData'"
      ],
      "metadata": {
        "colab": {
          "base_uri": "https://localhost:8080/"
        },
        "id": "o_ZETi6nurjj",
        "outputId": "6d871dff-6d59-4762-ffca-029b4e38f129"
      },
      "execution_count": null,
      "outputs": [
        {
          "output_type": "stream",
          "name": "stdout",
          "text": [
            "/content/drive/My Drive/MalwareData\n"
          ]
        }
      ]
    },
    {
      "cell_type": "code",
      "source": [
        "!ls"
      ],
      "metadata": {
        "colab": {
          "base_uri": "https://localhost:8080/"
        },
        "id": "ttiA3kBYuxRB",
        "outputId": "9ea4295a-2e6f-4f25-f92a-9830e23d251c"
      },
      "execution_count": null,
      "outputs": [
        {
          "output_type": "stream",
          "name": "stdout",
          "text": [
            "MalwareData.csv\n"
          ]
        }
      ]
    },
    {
      "cell_type": "code",
      "source": [
        "import pandas as pd\n",
        "\n",
        "file_path = 'MalwareData.csv'\n"
      ],
      "metadata": {
        "id": "MMvPEjyJu45x"
      },
      "execution_count": null,
      "outputs": []
    },
    {
      "cell_type": "code",
      "source": [
        "malData = pd.read_csv(file_path, sep='|', low_memory=True)"
      ],
      "metadata": {
        "id": "gT5F7LSju80p"
      },
      "execution_count": null,
      "outputs": []
    },
    {
      "cell_type": "code",
      "execution_count": null,
      "metadata": {
        "colab": {
          "base_uri": "https://localhost:8080/",
          "height": 256
        },
        "id": "f9zN-0HYt_Rl",
        "outputId": "2597a178-c9ba-4173-e43b-7f5983fb059a"
      },
      "outputs": [
        {
          "output_type": "execute_result",
          "data": {
            "text/plain": [
              "           Name                               md5  Machine  \\\n",
              "0   memtest.exe  631ea355665f28d4707448e442fbf5b8      332   \n",
              "1       ose.exe  9d10f99a6712e28f8acd5641e3a7ea6b      332   \n",
              "2     setup.exe  4d92f518527353c0db88a70fddcfd390      332   \n",
              "3      DW20.EXE  a41e524f8d45f0074fd07805ff0c9b12      332   \n",
              "4  dwtrig20.exe  c87e561258f2f8650cef999bf643a731      332   \n",
              "\n",
              "   SizeOfOptionalHeader  Characteristics  MajorLinkerVersion  \\\n",
              "0                   224              258                   9   \n",
              "1                   224             3330                   9   \n",
              "2                   224             3330                   9   \n",
              "3                   224              258                   9   \n",
              "4                   224              258                   9   \n",
              "\n",
              "   MinorLinkerVersion  SizeOfCode  SizeOfInitializedData  \\\n",
              "0                   0      361984                 115712   \n",
              "1                   0      130560                  19968   \n",
              "2                   0      517120                 621568   \n",
              "3                   0      585728                 369152   \n",
              "4                   0      294912                 247296   \n",
              "\n",
              "   SizeOfUninitializedData  ...  ResourcesNb  ResourcesMeanEntropy  \\\n",
              "0                        0  ...            4              3.262823   \n",
              "1                        0  ...            2              4.250461   \n",
              "2                        0  ...           11              4.426324   \n",
              "3                        0  ...           10              4.364291   \n",
              "4                        0  ...            2              4.306100   \n",
              "\n",
              "   ResourcesMinEntropy  ResourcesMaxEntropy  ResourcesMeanSize  \\\n",
              "0             2.568844             3.537939        8797.000000   \n",
              "1             3.420744             5.080177         837.000000   \n",
              "2             2.846449             5.271813       31102.272727   \n",
              "3             2.669314             6.400720        1457.000000   \n",
              "4             3.421598             5.190603        1074.500000   \n",
              "\n",
              "   ResourcesMinSize  ResourcesMaxSize  LoadConfigurationSize  \\\n",
              "0               216             18032                      0   \n",
              "1               518              1156                     72   \n",
              "2               104            270376                     72   \n",
              "3                90              4264                     72   \n",
              "4               849              1300                     72   \n",
              "\n",
              "   VersionInformationSize  legitimate  \n",
              "0                      16           1  \n",
              "1                      18           1  \n",
              "2                      18           1  \n",
              "3                      18           1  \n",
              "4                      18           1  \n",
              "\n",
              "[5 rows x 57 columns]"
            ],
            "text/html": [
              "\n",
              "  <div id=\"df-780f0232-0f25-4556-80a4-8c40088010bf\" class=\"colab-df-container\">\n",
              "    <div>\n",
              "<style scoped>\n",
              "    .dataframe tbody tr th:only-of-type {\n",
              "        vertical-align: middle;\n",
              "    }\n",
              "\n",
              "    .dataframe tbody tr th {\n",
              "        vertical-align: top;\n",
              "    }\n",
              "\n",
              "    .dataframe thead th {\n",
              "        text-align: right;\n",
              "    }\n",
              "</style>\n",
              "<table border=\"1\" class=\"dataframe\">\n",
              "  <thead>\n",
              "    <tr style=\"text-align: right;\">\n",
              "      <th></th>\n",
              "      <th>Name</th>\n",
              "      <th>md5</th>\n",
              "      <th>Machine</th>\n",
              "      <th>SizeOfOptionalHeader</th>\n",
              "      <th>Characteristics</th>\n",
              "      <th>MajorLinkerVersion</th>\n",
              "      <th>MinorLinkerVersion</th>\n",
              "      <th>SizeOfCode</th>\n",
              "      <th>SizeOfInitializedData</th>\n",
              "      <th>SizeOfUninitializedData</th>\n",
              "      <th>...</th>\n",
              "      <th>ResourcesNb</th>\n",
              "      <th>ResourcesMeanEntropy</th>\n",
              "      <th>ResourcesMinEntropy</th>\n",
              "      <th>ResourcesMaxEntropy</th>\n",
              "      <th>ResourcesMeanSize</th>\n",
              "      <th>ResourcesMinSize</th>\n",
              "      <th>ResourcesMaxSize</th>\n",
              "      <th>LoadConfigurationSize</th>\n",
              "      <th>VersionInformationSize</th>\n",
              "      <th>legitimate</th>\n",
              "    </tr>\n",
              "  </thead>\n",
              "  <tbody>\n",
              "    <tr>\n",
              "      <th>0</th>\n",
              "      <td>memtest.exe</td>\n",
              "      <td>631ea355665f28d4707448e442fbf5b8</td>\n",
              "      <td>332</td>\n",
              "      <td>224</td>\n",
              "      <td>258</td>\n",
              "      <td>9</td>\n",
              "      <td>0</td>\n",
              "      <td>361984</td>\n",
              "      <td>115712</td>\n",
              "      <td>0</td>\n",
              "      <td>...</td>\n",
              "      <td>4</td>\n",
              "      <td>3.262823</td>\n",
              "      <td>2.568844</td>\n",
              "      <td>3.537939</td>\n",
              "      <td>8797.000000</td>\n",
              "      <td>216</td>\n",
              "      <td>18032</td>\n",
              "      <td>0</td>\n",
              "      <td>16</td>\n",
              "      <td>1</td>\n",
              "    </tr>\n",
              "    <tr>\n",
              "      <th>1</th>\n",
              "      <td>ose.exe</td>\n",
              "      <td>9d10f99a6712e28f8acd5641e3a7ea6b</td>\n",
              "      <td>332</td>\n",
              "      <td>224</td>\n",
              "      <td>3330</td>\n",
              "      <td>9</td>\n",
              "      <td>0</td>\n",
              "      <td>130560</td>\n",
              "      <td>19968</td>\n",
              "      <td>0</td>\n",
              "      <td>...</td>\n",
              "      <td>2</td>\n",
              "      <td>4.250461</td>\n",
              "      <td>3.420744</td>\n",
              "      <td>5.080177</td>\n",
              "      <td>837.000000</td>\n",
              "      <td>518</td>\n",
              "      <td>1156</td>\n",
              "      <td>72</td>\n",
              "      <td>18</td>\n",
              "      <td>1</td>\n",
              "    </tr>\n",
              "    <tr>\n",
              "      <th>2</th>\n",
              "      <td>setup.exe</td>\n",
              "      <td>4d92f518527353c0db88a70fddcfd390</td>\n",
              "      <td>332</td>\n",
              "      <td>224</td>\n",
              "      <td>3330</td>\n",
              "      <td>9</td>\n",
              "      <td>0</td>\n",
              "      <td>517120</td>\n",
              "      <td>621568</td>\n",
              "      <td>0</td>\n",
              "      <td>...</td>\n",
              "      <td>11</td>\n",
              "      <td>4.426324</td>\n",
              "      <td>2.846449</td>\n",
              "      <td>5.271813</td>\n",
              "      <td>31102.272727</td>\n",
              "      <td>104</td>\n",
              "      <td>270376</td>\n",
              "      <td>72</td>\n",
              "      <td>18</td>\n",
              "      <td>1</td>\n",
              "    </tr>\n",
              "    <tr>\n",
              "      <th>3</th>\n",
              "      <td>DW20.EXE</td>\n",
              "      <td>a41e524f8d45f0074fd07805ff0c9b12</td>\n",
              "      <td>332</td>\n",
              "      <td>224</td>\n",
              "      <td>258</td>\n",
              "      <td>9</td>\n",
              "      <td>0</td>\n",
              "      <td>585728</td>\n",
              "      <td>369152</td>\n",
              "      <td>0</td>\n",
              "      <td>...</td>\n",
              "      <td>10</td>\n",
              "      <td>4.364291</td>\n",
              "      <td>2.669314</td>\n",
              "      <td>6.400720</td>\n",
              "      <td>1457.000000</td>\n",
              "      <td>90</td>\n",
              "      <td>4264</td>\n",
              "      <td>72</td>\n",
              "      <td>18</td>\n",
              "      <td>1</td>\n",
              "    </tr>\n",
              "    <tr>\n",
              "      <th>4</th>\n",
              "      <td>dwtrig20.exe</td>\n",
              "      <td>c87e561258f2f8650cef999bf643a731</td>\n",
              "      <td>332</td>\n",
              "      <td>224</td>\n",
              "      <td>258</td>\n",
              "      <td>9</td>\n",
              "      <td>0</td>\n",
              "      <td>294912</td>\n",
              "      <td>247296</td>\n",
              "      <td>0</td>\n",
              "      <td>...</td>\n",
              "      <td>2</td>\n",
              "      <td>4.306100</td>\n",
              "      <td>3.421598</td>\n",
              "      <td>5.190603</td>\n",
              "      <td>1074.500000</td>\n",
              "      <td>849</td>\n",
              "      <td>1300</td>\n",
              "      <td>72</td>\n",
              "      <td>18</td>\n",
              "      <td>1</td>\n",
              "    </tr>\n",
              "  </tbody>\n",
              "</table>\n",
              "<p>5 rows × 57 columns</p>\n",
              "</div>\n",
              "    <div class=\"colab-df-buttons\">\n",
              "\n",
              "  <div class=\"colab-df-container\">\n",
              "    <button class=\"colab-df-convert\" onclick=\"convertToInteractive('df-780f0232-0f25-4556-80a4-8c40088010bf')\"\n",
              "            title=\"Convert this dataframe to an interactive table.\"\n",
              "            style=\"display:none;\">\n",
              "\n",
              "  <svg xmlns=\"http://www.w3.org/2000/svg\" height=\"24px\" viewBox=\"0 -960 960 960\">\n",
              "    <path d=\"M120-120v-720h720v720H120Zm60-500h600v-160H180v160Zm220 220h160v-160H400v160Zm0 220h160v-160H400v160ZM180-400h160v-160H180v160Zm440 0h160v-160H620v160ZM180-180h160v-160H180v160Zm440 0h160v-160H620v160Z\"/>\n",
              "  </svg>\n",
              "    </button>\n",
              "\n",
              "  <style>\n",
              "    .colab-df-container {\n",
              "      display:flex;\n",
              "      gap: 12px;\n",
              "    }\n",
              "\n",
              "    .colab-df-convert {\n",
              "      background-color: #E8F0FE;\n",
              "      border: none;\n",
              "      border-radius: 50%;\n",
              "      cursor: pointer;\n",
              "      display: none;\n",
              "      fill: #1967D2;\n",
              "      height: 32px;\n",
              "      padding: 0 0 0 0;\n",
              "      width: 32px;\n",
              "    }\n",
              "\n",
              "    .colab-df-convert:hover {\n",
              "      background-color: #E2EBFA;\n",
              "      box-shadow: 0px 1px 2px rgba(60, 64, 67, 0.3), 0px 1px 3px 1px rgba(60, 64, 67, 0.15);\n",
              "      fill: #174EA6;\n",
              "    }\n",
              "\n",
              "    .colab-df-buttons div {\n",
              "      margin-bottom: 4px;\n",
              "    }\n",
              "\n",
              "    [theme=dark] .colab-df-convert {\n",
              "      background-color: #3B4455;\n",
              "      fill: #D2E3FC;\n",
              "    }\n",
              "\n",
              "    [theme=dark] .colab-df-convert:hover {\n",
              "      background-color: #434B5C;\n",
              "      box-shadow: 0px 1px 3px 1px rgba(0, 0, 0, 0.15);\n",
              "      filter: drop-shadow(0px 1px 2px rgba(0, 0, 0, 0.3));\n",
              "      fill: #FFFFFF;\n",
              "    }\n",
              "  </style>\n",
              "\n",
              "    <script>\n",
              "      const buttonEl =\n",
              "        document.querySelector('#df-780f0232-0f25-4556-80a4-8c40088010bf button.colab-df-convert');\n",
              "      buttonEl.style.display =\n",
              "        google.colab.kernel.accessAllowed ? 'block' : 'none';\n",
              "\n",
              "      async function convertToInteractive(key) {\n",
              "        const element = document.querySelector('#df-780f0232-0f25-4556-80a4-8c40088010bf');\n",
              "        const dataTable =\n",
              "          await google.colab.kernel.invokeFunction('convertToInteractive',\n",
              "                                                    [key], {});\n",
              "        if (!dataTable) return;\n",
              "\n",
              "        const docLinkHtml = 'Like what you see? Visit the ' +\n",
              "          '<a target=\"_blank\" href=https://colab.research.google.com/notebooks/data_table.ipynb>data table notebook</a>'\n",
              "          + ' to learn more about interactive tables.';\n",
              "        element.innerHTML = '';\n",
              "        dataTable['output_type'] = 'display_data';\n",
              "        await google.colab.output.renderOutput(dataTable, element);\n",
              "        const docLink = document.createElement('div');\n",
              "        docLink.innerHTML = docLinkHtml;\n",
              "        element.appendChild(docLink);\n",
              "      }\n",
              "    </script>\n",
              "  </div>\n",
              "\n",
              "\n",
              "<div id=\"df-8cf5dd67-47ab-4409-9286-3dca6a755b07\">\n",
              "  <button class=\"colab-df-quickchart\" onclick=\"quickchart('df-8cf5dd67-47ab-4409-9286-3dca6a755b07')\"\n",
              "            title=\"Suggest charts.\"\n",
              "            style=\"display:none;\">\n",
              "\n",
              "<svg xmlns=\"http://www.w3.org/2000/svg\" height=\"24px\"viewBox=\"0 0 24 24\"\n",
              "     width=\"24px\">\n",
              "    <g>\n",
              "        <path d=\"M19 3H5c-1.1 0-2 .9-2 2v14c0 1.1.9 2 2 2h14c1.1 0 2-.9 2-2V5c0-1.1-.9-2-2-2zM9 17H7v-7h2v7zm4 0h-2V7h2v10zm4 0h-2v-4h2v4z\"/>\n",
              "    </g>\n",
              "</svg>\n",
              "  </button>\n",
              "\n",
              "<style>\n",
              "  .colab-df-quickchart {\n",
              "    background-color: #E8F0FE;\n",
              "    border: none;\n",
              "    border-radius: 50%;\n",
              "    cursor: pointer;\n",
              "    display: none;\n",
              "    fill: #1967D2;\n",
              "    height: 32px;\n",
              "    padding: 0 0 0 0;\n",
              "    width: 32px;\n",
              "  }\n",
              "\n",
              "  .colab-df-quickchart:hover {\n",
              "    background-color: #E2EBFA;\n",
              "    box-shadow: 0px 1px 2px rgba(60, 64, 67, 0.3), 0px 1px 3px 1px rgba(60, 64, 67, 0.15);\n",
              "    fill: #174EA6;\n",
              "  }\n",
              "\n",
              "  [theme=dark] .colab-df-quickchart {\n",
              "    background-color: #3B4455;\n",
              "    fill: #D2E3FC;\n",
              "  }\n",
              "\n",
              "  [theme=dark] .colab-df-quickchart:hover {\n",
              "    background-color: #434B5C;\n",
              "    box-shadow: 0px 1px 3px 1px rgba(0, 0, 0, 0.15);\n",
              "    filter: drop-shadow(0px 1px 2px rgba(0, 0, 0, 0.3));\n",
              "    fill: #FFFFFF;\n",
              "  }\n",
              "</style>\n",
              "\n",
              "  <script>\n",
              "    async function quickchart(key) {\n",
              "      const charts = await google.colab.kernel.invokeFunction(\n",
              "          'suggestCharts', [key], {});\n",
              "    }\n",
              "    (() => {\n",
              "      let quickchartButtonEl =\n",
              "        document.querySelector('#df-8cf5dd67-47ab-4409-9286-3dca6a755b07 button');\n",
              "      quickchartButtonEl.style.display =\n",
              "        google.colab.kernel.accessAllowed ? 'block' : 'none';\n",
              "    })();\n",
              "  </script>\n",
              "</div>\n",
              "    </div>\n",
              "  </div>\n"
            ]
          },
          "metadata": {},
          "execution_count": 90
        }
      ],
      "source": [
        "malData.head()"
      ]
    },
    {
      "cell_type": "code",
      "execution_count": null,
      "metadata": {
        "colab": {
          "base_uri": "https://localhost:8080/"
        },
        "id": "6-MsURWit_Rm",
        "outputId": "6c91fb6b-32ed-4f7b-cc4a-63fbcc4d54ec"
      },
      "outputs": [
        {
          "output_type": "execute_result",
          "data": {
            "text/plain": [
              "(138047, 57)"
            ]
          },
          "metadata": {},
          "execution_count": 91
        }
      ],
      "source": [
        "malData.shape"
      ]
    },
    {
      "cell_type": "code",
      "execution_count": null,
      "metadata": {
        "colab": {
          "base_uri": "https://localhost:8080/",
          "height": 350
        },
        "id": "SyKqQHuFt_Rm",
        "outputId": "458c9e20-b8c0-4431-d521-15a51260f4a8"
      },
      "outputs": [
        {
          "output_type": "execute_result",
          "data": {
            "text/plain": [
              "             Machine  SizeOfOptionalHeader  Characteristics  \\\n",
              "count  138047.000000         138047.000000    138047.000000   \n",
              "mean     4259.069274            225.845632      4444.145994   \n",
              "std     10880.347245              5.121399      8186.782524   \n",
              "min       332.000000            224.000000         2.000000   \n",
              "25%       332.000000            224.000000       258.000000   \n",
              "50%       332.000000            224.000000       258.000000   \n",
              "75%       332.000000            224.000000      8226.000000   \n",
              "max     34404.000000            352.000000     49551.000000   \n",
              "\n",
              "       MajorLinkerVersion  MinorLinkerVersion    SizeOfCode  \\\n",
              "count       138047.000000       138047.000000  1.380470e+05   \n",
              "mean             8.619774            3.819286  2.425956e+05   \n",
              "std              4.088757           11.862675  5.754485e+06   \n",
              "min              0.000000            0.000000  0.000000e+00   \n",
              "25%              8.000000            0.000000  3.020800e+04   \n",
              "50%              9.000000            0.000000  1.136640e+05   \n",
              "75%             10.000000            0.000000  1.203200e+05   \n",
              "max            255.000000          255.000000  1.818587e+09   \n",
              "\n",
              "       SizeOfInitializedData  SizeOfUninitializedData  AddressOfEntryPoint  \\\n",
              "count           1.380470e+05             1.380470e+05         1.380470e+05   \n",
              "mean            4.504867e+05             1.009525e+05         1.719561e+05   \n",
              "std             2.101599e+07             1.635288e+07         3.430553e+06   \n",
              "min             0.000000e+00             0.000000e+00         0.000000e+00   \n",
              "25%             2.457600e+04             0.000000e+00         1.272100e+04   \n",
              "50%             2.631680e+05             0.000000e+00         5.288300e+04   \n",
              "75%             3.850240e+05             0.000000e+00         6.157800e+04   \n",
              "max             4.294966e+09             4.294941e+09         1.074484e+09   \n",
              "\n",
              "         BaseOfCode  ...    ResourcesNb  ResourcesMeanEntropy  \\\n",
              "count  1.380470e+05  ...  138047.000000         138047.000000   \n",
              "mean   5.779845e+04  ...      22.050700              4.000127   \n",
              "std    5.527658e+06  ...     136.494244              1.112981   \n",
              "min    0.000000e+00  ...       0.000000              0.000000   \n",
              "25%    4.096000e+03  ...       5.000000              3.458505   \n",
              "50%    4.096000e+03  ...       6.000000              3.729824   \n",
              "75%    4.096000e+03  ...      13.000000              4.233051   \n",
              "max    2.028711e+09  ...    7694.000000              7.999723   \n",
              "\n",
              "       ResourcesMinEntropy  ResourcesMaxEntropy  ResourcesMeanSize  \\\n",
              "count        138047.000000        138047.000000       1.380470e+05   \n",
              "mean              2.434541             5.521610       5.545093e+04   \n",
              "std               0.815577             1.597403       7.799163e+06   \n",
              "min               0.000000             0.000000       0.000000e+00   \n",
              "25%               2.178748             4.828706       9.560000e+02   \n",
              "50%               2.458492             5.317552       2.708154e+03   \n",
              "75%               2.696833             6.502239       6.558429e+03   \n",
              "max               7.999723             8.000000       2.415919e+09   \n",
              "\n",
              "       ResourcesMinSize  ResourcesMaxSize  LoadConfigurationSize  \\\n",
              "count      1.380470e+05      1.380470e+05           1.380470e+05   \n",
              "mean       1.818082e+04      2.465903e+05           4.656750e+05   \n",
              "std        6.502369e+06      2.124860e+07           2.608987e+07   \n",
              "min        0.000000e+00      0.000000e+00           0.000000e+00   \n",
              "25%        4.800000e+01      2.216000e+03           0.000000e+00   \n",
              "50%        4.800000e+01      9.640000e+03           7.200000e+01   \n",
              "75%        1.320000e+02      2.378000e+04           7.200000e+01   \n",
              "max        2.415919e+09      4.294903e+09           4.294967e+09   \n",
              "\n",
              "       VersionInformationSize     legitimate  \n",
              "count           138047.000000  138047.000000  \n",
              "mean                12.363115       0.299340  \n",
              "std                  6.798878       0.457971  \n",
              "min                  0.000000       0.000000  \n",
              "25%                 13.000000       0.000000  \n",
              "50%                 15.000000       0.000000  \n",
              "75%                 16.000000       1.000000  \n",
              "max                 26.000000       1.000000  \n",
              "\n",
              "[8 rows x 55 columns]"
            ],
            "text/html": [
              "\n",
              "  <div id=\"df-c9cad168-f784-4bbe-b6b8-cdba9323f382\" class=\"colab-df-container\">\n",
              "    <div>\n",
              "<style scoped>\n",
              "    .dataframe tbody tr th:only-of-type {\n",
              "        vertical-align: middle;\n",
              "    }\n",
              "\n",
              "    .dataframe tbody tr th {\n",
              "        vertical-align: top;\n",
              "    }\n",
              "\n",
              "    .dataframe thead th {\n",
              "        text-align: right;\n",
              "    }\n",
              "</style>\n",
              "<table border=\"1\" class=\"dataframe\">\n",
              "  <thead>\n",
              "    <tr style=\"text-align: right;\">\n",
              "      <th></th>\n",
              "      <th>Machine</th>\n",
              "      <th>SizeOfOptionalHeader</th>\n",
              "      <th>Characteristics</th>\n",
              "      <th>MajorLinkerVersion</th>\n",
              "      <th>MinorLinkerVersion</th>\n",
              "      <th>SizeOfCode</th>\n",
              "      <th>SizeOfInitializedData</th>\n",
              "      <th>SizeOfUninitializedData</th>\n",
              "      <th>AddressOfEntryPoint</th>\n",
              "      <th>BaseOfCode</th>\n",
              "      <th>...</th>\n",
              "      <th>ResourcesNb</th>\n",
              "      <th>ResourcesMeanEntropy</th>\n",
              "      <th>ResourcesMinEntropy</th>\n",
              "      <th>ResourcesMaxEntropy</th>\n",
              "      <th>ResourcesMeanSize</th>\n",
              "      <th>ResourcesMinSize</th>\n",
              "      <th>ResourcesMaxSize</th>\n",
              "      <th>LoadConfigurationSize</th>\n",
              "      <th>VersionInformationSize</th>\n",
              "      <th>legitimate</th>\n",
              "    </tr>\n",
              "  </thead>\n",
              "  <tbody>\n",
              "    <tr>\n",
              "      <th>count</th>\n",
              "      <td>138047.000000</td>\n",
              "      <td>138047.000000</td>\n",
              "      <td>138047.000000</td>\n",
              "      <td>138047.000000</td>\n",
              "      <td>138047.000000</td>\n",
              "      <td>1.380470e+05</td>\n",
              "      <td>1.380470e+05</td>\n",
              "      <td>1.380470e+05</td>\n",
              "      <td>1.380470e+05</td>\n",
              "      <td>1.380470e+05</td>\n",
              "      <td>...</td>\n",
              "      <td>138047.000000</td>\n",
              "      <td>138047.000000</td>\n",
              "      <td>138047.000000</td>\n",
              "      <td>138047.000000</td>\n",
              "      <td>1.380470e+05</td>\n",
              "      <td>1.380470e+05</td>\n",
              "      <td>1.380470e+05</td>\n",
              "      <td>1.380470e+05</td>\n",
              "      <td>138047.000000</td>\n",
              "      <td>138047.000000</td>\n",
              "    </tr>\n",
              "    <tr>\n",
              "      <th>mean</th>\n",
              "      <td>4259.069274</td>\n",
              "      <td>225.845632</td>\n",
              "      <td>4444.145994</td>\n",
              "      <td>8.619774</td>\n",
              "      <td>3.819286</td>\n",
              "      <td>2.425956e+05</td>\n",
              "      <td>4.504867e+05</td>\n",
              "      <td>1.009525e+05</td>\n",
              "      <td>1.719561e+05</td>\n",
              "      <td>5.779845e+04</td>\n",
              "      <td>...</td>\n",
              "      <td>22.050700</td>\n",
              "      <td>4.000127</td>\n",
              "      <td>2.434541</td>\n",
              "      <td>5.521610</td>\n",
              "      <td>5.545093e+04</td>\n",
              "      <td>1.818082e+04</td>\n",
              "      <td>2.465903e+05</td>\n",
              "      <td>4.656750e+05</td>\n",
              "      <td>12.363115</td>\n",
              "      <td>0.299340</td>\n",
              "    </tr>\n",
              "    <tr>\n",
              "      <th>std</th>\n",
              "      <td>10880.347245</td>\n",
              "      <td>5.121399</td>\n",
              "      <td>8186.782524</td>\n",
              "      <td>4.088757</td>\n",
              "      <td>11.862675</td>\n",
              "      <td>5.754485e+06</td>\n",
              "      <td>2.101599e+07</td>\n",
              "      <td>1.635288e+07</td>\n",
              "      <td>3.430553e+06</td>\n",
              "      <td>5.527658e+06</td>\n",
              "      <td>...</td>\n",
              "      <td>136.494244</td>\n",
              "      <td>1.112981</td>\n",
              "      <td>0.815577</td>\n",
              "      <td>1.597403</td>\n",
              "      <td>7.799163e+06</td>\n",
              "      <td>6.502369e+06</td>\n",
              "      <td>2.124860e+07</td>\n",
              "      <td>2.608987e+07</td>\n",
              "      <td>6.798878</td>\n",
              "      <td>0.457971</td>\n",
              "    </tr>\n",
              "    <tr>\n",
              "      <th>min</th>\n",
              "      <td>332.000000</td>\n",
              "      <td>224.000000</td>\n",
              "      <td>2.000000</td>\n",
              "      <td>0.000000</td>\n",
              "      <td>0.000000</td>\n",
              "      <td>0.000000e+00</td>\n",
              "      <td>0.000000e+00</td>\n",
              "      <td>0.000000e+00</td>\n",
              "      <td>0.000000e+00</td>\n",
              "      <td>0.000000e+00</td>\n",
              "      <td>...</td>\n",
              "      <td>0.000000</td>\n",
              "      <td>0.000000</td>\n",
              "      <td>0.000000</td>\n",
              "      <td>0.000000</td>\n",
              "      <td>0.000000e+00</td>\n",
              "      <td>0.000000e+00</td>\n",
              "      <td>0.000000e+00</td>\n",
              "      <td>0.000000e+00</td>\n",
              "      <td>0.000000</td>\n",
              "      <td>0.000000</td>\n",
              "    </tr>\n",
              "    <tr>\n",
              "      <th>25%</th>\n",
              "      <td>332.000000</td>\n",
              "      <td>224.000000</td>\n",
              "      <td>258.000000</td>\n",
              "      <td>8.000000</td>\n",
              "      <td>0.000000</td>\n",
              "      <td>3.020800e+04</td>\n",
              "      <td>2.457600e+04</td>\n",
              "      <td>0.000000e+00</td>\n",
              "      <td>1.272100e+04</td>\n",
              "      <td>4.096000e+03</td>\n",
              "      <td>...</td>\n",
              "      <td>5.000000</td>\n",
              "      <td>3.458505</td>\n",
              "      <td>2.178748</td>\n",
              "      <td>4.828706</td>\n",
              "      <td>9.560000e+02</td>\n",
              "      <td>4.800000e+01</td>\n",
              "      <td>2.216000e+03</td>\n",
              "      <td>0.000000e+00</td>\n",
              "      <td>13.000000</td>\n",
              "      <td>0.000000</td>\n",
              "    </tr>\n",
              "    <tr>\n",
              "      <th>50%</th>\n",
              "      <td>332.000000</td>\n",
              "      <td>224.000000</td>\n",
              "      <td>258.000000</td>\n",
              "      <td>9.000000</td>\n",
              "      <td>0.000000</td>\n",
              "      <td>1.136640e+05</td>\n",
              "      <td>2.631680e+05</td>\n",
              "      <td>0.000000e+00</td>\n",
              "      <td>5.288300e+04</td>\n",
              "      <td>4.096000e+03</td>\n",
              "      <td>...</td>\n",
              "      <td>6.000000</td>\n",
              "      <td>3.729824</td>\n",
              "      <td>2.458492</td>\n",
              "      <td>5.317552</td>\n",
              "      <td>2.708154e+03</td>\n",
              "      <td>4.800000e+01</td>\n",
              "      <td>9.640000e+03</td>\n",
              "      <td>7.200000e+01</td>\n",
              "      <td>15.000000</td>\n",
              "      <td>0.000000</td>\n",
              "    </tr>\n",
              "    <tr>\n",
              "      <th>75%</th>\n",
              "      <td>332.000000</td>\n",
              "      <td>224.000000</td>\n",
              "      <td>8226.000000</td>\n",
              "      <td>10.000000</td>\n",
              "      <td>0.000000</td>\n",
              "      <td>1.203200e+05</td>\n",
              "      <td>3.850240e+05</td>\n",
              "      <td>0.000000e+00</td>\n",
              "      <td>6.157800e+04</td>\n",
              "      <td>4.096000e+03</td>\n",
              "      <td>...</td>\n",
              "      <td>13.000000</td>\n",
              "      <td>4.233051</td>\n",
              "      <td>2.696833</td>\n",
              "      <td>6.502239</td>\n",
              "      <td>6.558429e+03</td>\n",
              "      <td>1.320000e+02</td>\n",
              "      <td>2.378000e+04</td>\n",
              "      <td>7.200000e+01</td>\n",
              "      <td>16.000000</td>\n",
              "      <td>1.000000</td>\n",
              "    </tr>\n",
              "    <tr>\n",
              "      <th>max</th>\n",
              "      <td>34404.000000</td>\n",
              "      <td>352.000000</td>\n",
              "      <td>49551.000000</td>\n",
              "      <td>255.000000</td>\n",
              "      <td>255.000000</td>\n",
              "      <td>1.818587e+09</td>\n",
              "      <td>4.294966e+09</td>\n",
              "      <td>4.294941e+09</td>\n",
              "      <td>1.074484e+09</td>\n",
              "      <td>2.028711e+09</td>\n",
              "      <td>...</td>\n",
              "      <td>7694.000000</td>\n",
              "      <td>7.999723</td>\n",
              "      <td>7.999723</td>\n",
              "      <td>8.000000</td>\n",
              "      <td>2.415919e+09</td>\n",
              "      <td>2.415919e+09</td>\n",
              "      <td>4.294903e+09</td>\n",
              "      <td>4.294967e+09</td>\n",
              "      <td>26.000000</td>\n",
              "      <td>1.000000</td>\n",
              "    </tr>\n",
              "  </tbody>\n",
              "</table>\n",
              "<p>8 rows × 55 columns</p>\n",
              "</div>\n",
              "    <div class=\"colab-df-buttons\">\n",
              "\n",
              "  <div class=\"colab-df-container\">\n",
              "    <button class=\"colab-df-convert\" onclick=\"convertToInteractive('df-c9cad168-f784-4bbe-b6b8-cdba9323f382')\"\n",
              "            title=\"Convert this dataframe to an interactive table.\"\n",
              "            style=\"display:none;\">\n",
              "\n",
              "  <svg xmlns=\"http://www.w3.org/2000/svg\" height=\"24px\" viewBox=\"0 -960 960 960\">\n",
              "    <path d=\"M120-120v-720h720v720H120Zm60-500h600v-160H180v160Zm220 220h160v-160H400v160Zm0 220h160v-160H400v160ZM180-400h160v-160H180v160Zm440 0h160v-160H620v160ZM180-180h160v-160H180v160Zm440 0h160v-160H620v160Z\"/>\n",
              "  </svg>\n",
              "    </button>\n",
              "\n",
              "  <style>\n",
              "    .colab-df-container {\n",
              "      display:flex;\n",
              "      gap: 12px;\n",
              "    }\n",
              "\n",
              "    .colab-df-convert {\n",
              "      background-color: #E8F0FE;\n",
              "      border: none;\n",
              "      border-radius: 50%;\n",
              "      cursor: pointer;\n",
              "      display: none;\n",
              "      fill: #1967D2;\n",
              "      height: 32px;\n",
              "      padding: 0 0 0 0;\n",
              "      width: 32px;\n",
              "    }\n",
              "\n",
              "    .colab-df-convert:hover {\n",
              "      background-color: #E2EBFA;\n",
              "      box-shadow: 0px 1px 2px rgba(60, 64, 67, 0.3), 0px 1px 3px 1px rgba(60, 64, 67, 0.15);\n",
              "      fill: #174EA6;\n",
              "    }\n",
              "\n",
              "    .colab-df-buttons div {\n",
              "      margin-bottom: 4px;\n",
              "    }\n",
              "\n",
              "    [theme=dark] .colab-df-convert {\n",
              "      background-color: #3B4455;\n",
              "      fill: #D2E3FC;\n",
              "    }\n",
              "\n",
              "    [theme=dark] .colab-df-convert:hover {\n",
              "      background-color: #434B5C;\n",
              "      box-shadow: 0px 1px 3px 1px rgba(0, 0, 0, 0.15);\n",
              "      filter: drop-shadow(0px 1px 2px rgba(0, 0, 0, 0.3));\n",
              "      fill: #FFFFFF;\n",
              "    }\n",
              "  </style>\n",
              "\n",
              "    <script>\n",
              "      const buttonEl =\n",
              "        document.querySelector('#df-c9cad168-f784-4bbe-b6b8-cdba9323f382 button.colab-df-convert');\n",
              "      buttonEl.style.display =\n",
              "        google.colab.kernel.accessAllowed ? 'block' : 'none';\n",
              "\n",
              "      async function convertToInteractive(key) {\n",
              "        const element = document.querySelector('#df-c9cad168-f784-4bbe-b6b8-cdba9323f382');\n",
              "        const dataTable =\n",
              "          await google.colab.kernel.invokeFunction('convertToInteractive',\n",
              "                                                    [key], {});\n",
              "        if (!dataTable) return;\n",
              "\n",
              "        const docLinkHtml = 'Like what you see? Visit the ' +\n",
              "          '<a target=\"_blank\" href=https://colab.research.google.com/notebooks/data_table.ipynb>data table notebook</a>'\n",
              "          + ' to learn more about interactive tables.';\n",
              "        element.innerHTML = '';\n",
              "        dataTable['output_type'] = 'display_data';\n",
              "        await google.colab.output.renderOutput(dataTable, element);\n",
              "        const docLink = document.createElement('div');\n",
              "        docLink.innerHTML = docLinkHtml;\n",
              "        element.appendChild(docLink);\n",
              "      }\n",
              "    </script>\n",
              "  </div>\n",
              "\n",
              "\n",
              "<div id=\"df-e77555f3-3173-404a-93c5-ddb6f730ae95\">\n",
              "  <button class=\"colab-df-quickchart\" onclick=\"quickchart('df-e77555f3-3173-404a-93c5-ddb6f730ae95')\"\n",
              "            title=\"Suggest charts.\"\n",
              "            style=\"display:none;\">\n",
              "\n",
              "<svg xmlns=\"http://www.w3.org/2000/svg\" height=\"24px\"viewBox=\"0 0 24 24\"\n",
              "     width=\"24px\">\n",
              "    <g>\n",
              "        <path d=\"M19 3H5c-1.1 0-2 .9-2 2v14c0 1.1.9 2 2 2h14c1.1 0 2-.9 2-2V5c0-1.1-.9-2-2-2zM9 17H7v-7h2v7zm4 0h-2V7h2v10zm4 0h-2v-4h2v4z\"/>\n",
              "    </g>\n",
              "</svg>\n",
              "  </button>\n",
              "\n",
              "<style>\n",
              "  .colab-df-quickchart {\n",
              "    background-color: #E8F0FE;\n",
              "    border: none;\n",
              "    border-radius: 50%;\n",
              "    cursor: pointer;\n",
              "    display: none;\n",
              "    fill: #1967D2;\n",
              "    height: 32px;\n",
              "    padding: 0 0 0 0;\n",
              "    width: 32px;\n",
              "  }\n",
              "\n",
              "  .colab-df-quickchart:hover {\n",
              "    background-color: #E2EBFA;\n",
              "    box-shadow: 0px 1px 2px rgba(60, 64, 67, 0.3), 0px 1px 3px 1px rgba(60, 64, 67, 0.15);\n",
              "    fill: #174EA6;\n",
              "  }\n",
              "\n",
              "  [theme=dark] .colab-df-quickchart {\n",
              "    background-color: #3B4455;\n",
              "    fill: #D2E3FC;\n",
              "  }\n",
              "\n",
              "  [theme=dark] .colab-df-quickchart:hover {\n",
              "    background-color: #434B5C;\n",
              "    box-shadow: 0px 1px 3px 1px rgba(0, 0, 0, 0.15);\n",
              "    filter: drop-shadow(0px 1px 2px rgba(0, 0, 0, 0.3));\n",
              "    fill: #FFFFFF;\n",
              "  }\n",
              "</style>\n",
              "\n",
              "  <script>\n",
              "    async function quickchart(key) {\n",
              "      const charts = await google.colab.kernel.invokeFunction(\n",
              "          'suggestCharts', [key], {});\n",
              "    }\n",
              "    (() => {\n",
              "      let quickchartButtonEl =\n",
              "        document.querySelector('#df-e77555f3-3173-404a-93c5-ddb6f730ae95 button');\n",
              "      quickchartButtonEl.style.display =\n",
              "        google.colab.kernel.accessAllowed ? 'block' : 'none';\n",
              "    })();\n",
              "  </script>\n",
              "</div>\n",
              "    </div>\n",
              "  </div>\n"
            ]
          },
          "metadata": {},
          "execution_count": 92
        }
      ],
      "source": [
        "malData.describe()"
      ]
    },
    {
      "cell_type": "code",
      "execution_count": null,
      "metadata": {
        "colab": {
          "base_uri": "https://localhost:8080/"
        },
        "id": "461Bz_cIt_Rm",
        "outputId": "3a24a769-13ab-4454-8d95-618625d2b452"
      },
      "outputs": [
        {
          "output_type": "stream",
          "name": "stdout",
          "text": [
            "The shape of the legit dataset is: 41323 samples, 56 features\n",
            "The shape of the mal dataset is: 96724 samples, 56 features\n"
          ]
        }
      ],
      "source": [
        "legit= malData[0:41323].drop([\"legitimate\"], axis=1)\n",
        "mal= malData[41323::].drop([\"legitimate\"], axis=1)\n",
        "print(\"The shape of the legit dataset is: %s samples, %s features\"%(legit.shape[0],legit.shape[1]))\n",
        "print(\"The shape of the mal dataset is: %s samples, % s features\" %(mal.shape[0],mal.shape[1]))"
      ]
    },
    {
      "cell_type": "code",
      "execution_count": null,
      "metadata": {
        "colab": {
          "base_uri": "https://localhost:8080/",
          "height": 540
        },
        "id": "p-MfHdNWt_Rm",
        "outputId": "512d90f9-59fd-4ca7-c04a-219b9f357cc1"
      },
      "outputs": [
        {
          "output_type": "display_data",
          "data": {
            "text/plain": [
              "<Figure size 640x480 with 1 Axes>"
            ],
            "image/png": "[encoded data removed]"
          },
          "metadata": {}
        }
      ],
      "source": [
        "fig = plt.figure()\n",
        "ax = fig.add_axes([0,0,1,1])\n",
        "ax.hist(malData['legitimate'],20)\n",
        "plt.show()"
      ]
    },
    {
      "cell_type": "markdown",
      "metadata": {
        "id": "PfMUuS1jt_Rn"
      },
      "source": [
        "# Data Cleaning"
      ]
    },
    {
      "cell_type": "code",
      "execution_count": null,
      "metadata": {
        "id": "wFrKEojXt_Rn"
      },
      "outputs": [],
      "source": [
        "y=malData['legitimate']\n",
        "malData=malData.drop(['legitimate'],axis=1)"
      ]
    },
    {
      "cell_type": "code",
      "execution_count": null,
      "metadata": {
        "colab": {
          "base_uri": "https://localhost:8080/"
        },
        "id": "SGX5JVdXt_Rn",
        "outputId": "cf196b8e-1b69-4d65-b4db-440865c11620"
      },
      "outputs": [
        {
          "output_type": "stream",
          "name": "stdout",
          "text": [
            " The Name and md5 variables are removed successfully\n"
          ]
        }
      ],
      "source": [
        "malData=malData.drop(['Name'],axis=1)\n",
        "malData=malData.drop(['md5'],axis=1)\n",
        "print(\" The Name and md5 variables are removed successfully\")"
      ]
    },
    {
      "cell_type": "code",
      "execution_count": null,
      "metadata": {
        "id": "BYw026Ist_Rn"
      },
      "outputs": [],
      "source": [
        "# from sklearn.feature_selection import SelectKBest\n",
        "# from sklearn.feature_selection import chi2\n",
        "# X_new = SelectKBest(chi2, k=2).fit_transform(malData, y)\n",
        "# X_new.shape"
      ]
    },
    {
      "cell_type": "markdown",
      "metadata": {
        "id": "aRN1mGaSt_Rn"
      },
      "source": [
        "# Spliting the dataset into test and train"
      ]
    },
    {
      "cell_type": "code",
      "execution_count": null,
      "metadata": {
        "id": "7bkxwHGWt_Rn"
      },
      "outputs": [],
      "source": [
        "from sklearn.model_selection import train_test_split\n",
        "\n",
        "X_train, X_test, y_train, y_test = train_test_split(malData,y, test_size=0.2, random_state=42)"
      ]
    },
    {
      "cell_type": "code",
      "execution_count": null,
      "metadata": {
        "colab": {
          "base_uri": "https://localhost:8080/"
        },
        "id": "KKV9s64bt_Ro",
        "outputId": "6be19078-0665-49f6-df98-66ae8ba04e45"
      },
      "outputs": [
        {
          "output_type": "execute_result",
          "data": {
            "text/plain": [
              "(110437, 54)"
            ]
          },
          "metadata": {},
          "execution_count": 99
        }
      ],
      "source": [
        "X_train.shape"
      ]
    },
    {
      "cell_type": "markdown",
      "metadata": {
        "id": "b1H5mWGyt_Ro"
      },
      "source": [
        "# Model Building </br> </br>\n",
        "## 1- Random Forest"
      ]
    },
    {
      "cell_type": "code",
      "execution_count": null,
      "metadata": {
        "id": "nDkTRrUVt_Ro"
      },
      "outputs": [],
      "source": [
        "from sklearn.ensemble import RandomForestClassifier\n",
        "\n",
        "from sklearn.datasets import make_classification\n",
        "\n",
        "clf = RandomForestClassifier(max_depth=2, random_state=0)\n",
        "\n",
        "randomModel=clf.fit(X_train, y_train)\n",
        "\n"
      ]
    },
    {
      "cell_type": "markdown",
      "metadata": {
        "id": "szC8kiUdt_Ro"
      },
      "source": [
        "## Random forest Evaluation on test data"
      ]
    },
    {
      "cell_type": "code",
      "execution_count": null,
      "metadata": {
        "id": "s3MFDw2jt_Ro"
      },
      "outputs": [],
      "source": [
        "from sklearn.metrics import f1_score,accuracy_score,auc,confusion_matrix\n"
      ]
    },
    {
      "cell_type": "code",
      "execution_count": null,
      "metadata": {
        "colab": {
          "base_uri": "https://localhost:8080/"
        },
        "id": "pxDt6ar5t_Ro",
        "outputId": "7ac138c5-a2ac-4de2-e66f-de82690b7c5b"
      },
      "outputs": [
        {
          "output_type": "execute_result",
          "data": {
            "text/plain": [
              "0.9828318407780001"
            ]
          },
          "metadata": {},
          "execution_count": 107
        }
      ],
      "source": [
        "#  Accuracy on the train dataset\n",
        "\n",
        "train_pred=randomModel.predict(X_train)\n",
        "\n",
        "accuracy_score(y_train,train_pred)"
      ]
    },
    {
      "cell_type": "code",
      "execution_count": null,
      "metadata": {
        "colab": {
          "base_uri": "https://localhost:8080/"
        },
        "id": "6mVd3R9Jt_Ro",
        "outputId": "b44e1a29-ea56-45e7-8338-8986bc624f5d"
      },
      "outputs": [
        {
          "output_type": "execute_result",
          "data": {
            "text/plain": [
              "0.9838102136906918"
            ]
          },
          "metadata": {},
          "execution_count": 108
        }
      ],
      "source": [
        "# Accuracy on the test dataset\n",
        "\n",
        "prediction=randomModel.predict(X_test)\n",
        "\n",
        "accuracy_score(y_test,prediction)"
      ]
    },
    {
      "cell_type": "code",
      "execution_count": null,
      "metadata": {
        "colab": {
          "base_uri": "https://localhost:8080/"
        },
        "id": "oXQhhtyOt_Rp",
        "outputId": "4be01bd5-0066-456b-a637-ebb5294c272d"
      },
      "outputs": [
        {
          "output_type": "execute_result",
          "data": {
            "text/plain": [
              "0.9730933606212002"
            ]
          },
          "metadata": {},
          "execution_count": 109
        }
      ],
      "source": [
        "f1_score(y_test, prediction)"
      ]
    },
    {
      "cell_type": "markdown",
      "metadata": {
        "id": "0ZGjI4iZt_Rp"
      },
      "source": [
        "## Confusion matrix"
      ]
    },
    {
      "cell_type": "code",
      "execution_count": null,
      "metadata": {
        "id": "15ymErB9t_Rp"
      },
      "outputs": [],
      "source": []
    },
    {
      "cell_type": "markdown",
      "metadata": {
        "id": "nKuT6cMLt_Rp"
      },
      "source": [
        "## 2 - logistic regression"
      ]
    },
    {
      "cell_type": "code",
      "execution_count": null,
      "metadata": {
        "colab": {
          "base_uri": "https://localhost:8080/"
        },
        "id": "tEsLA27Dt_Rp",
        "outputId": "b11fea1d-ee34-48fe-b6cc-58bb34628968"
      },
      "outputs": [
        {
          "output_type": "stream",
          "name": "stderr",
          "text": [
            "/usr/local/lib/python3.10/dist-packages/sklearn/linear_model/_logistic.py:460: ConvergenceWarning: lbfgs failed to converge (status=2):\n",
            "ABNORMAL_TERMINATION_IN_LNSRCH.\n",
            "\n",
            "Increase the number of iterations (max_iter) or scale the data as shown in:\n",
            "    https://scikit-learn.org/stable/modules/preprocessing.html\n",
            "Please also refer to the documentation for alternative solver options:\n",
            "    https://scikit-learn.org/stable/modules/linear_model.html#logistic-regression\n",
            "  n_iter_i = _check_optimize_result(\n"
          ]
        }
      ],
      "source": [
        "from sklearn.linear_model import LogisticRegression\n",
        "\n",
        "clf = LogisticRegression(random_state=0)\n",
        "\n",
        "logModel=clf.fit(X_train, y_train)"
      ]
    },
    {
      "cell_type": "code",
      "source": [
        "from sklearn.linear_model import LogisticRegression\n",
        "\n",
        "# Create a Logistic Regression model with a different solver\n",
        "logModel = LogisticRegression(solver='saga')  # Try different solvers\n"
      ],
      "metadata": {
        "id": "loU_Yl5LwvQO"
      },
      "execution_count": null,
      "outputs": []
    },
    {
      "cell_type": "code",
      "source": [
        "from sklearn.preprocessing import StandardScaler\n",
        "\n",
        "# Scale your data\n",
        "scaler = StandardScaler()\n",
        "X_train_scaled = scaler.fit_transform(X_train)\n",
        "X_test_scaled = scaler.transform(X_test)\n",
        "\n",
        "# Then, fit the Logistic Regression model with the scaled data\n",
        "logModel.fit(X_train_scaled, y_train)\n"
      ],
      "metadata": {
        "colab": {
          "base_uri": "https://localhost:8080/",
          "height": 214
        },
        "id": "s9lkFWoswjck",
        "outputId": "5fa1b55e-9701-4a64-feab-4140d348f634"
      },
      "execution_count": null,
      "outputs": [
        {
          "output_type": "stream",
          "name": "stderr",
          "text": [
            "/usr/local/lib/python3.10/dist-packages/sklearn/linear_model/_logistic.py:460: ConvergenceWarning: lbfgs failed to converge (status=1):\n",
            "STOP: TOTAL NO. of ITERATIONS REACHED LIMIT.\n",
            "\n",
            "Increase the number of iterations (max_iter) or scale the data as shown in:\n",
            "    https://scikit-learn.org/stable/modules/preprocessing.html\n",
            "Please also refer to the documentation for alternative solver options:\n",
            "    https://scikit-learn.org/stable/modules/linear_model.html#logistic-regression\n",
            "  n_iter_i = _check_optimize_result(\n"
          ]
        },
        {
          "output_type": "execute_result",
          "data": {
            "text/plain": [
              "LogisticRegression(random_state=0)"
            ],
            "text/html": [
              "<style>#sk-container-id-2 {color: black;}#sk-container-id-2 pre{padding: 0;}#sk-container-id-2 div.sk-toggleable {background-color: white;}#sk-container-id-2 label.sk-toggleable__label {cursor: pointer;display: block;width: 100%;margin-bottom: 0;padding: 0.3em;box-sizing: border-box;text-align: center;}#sk-container-id-2 label.sk-toggleable__label-arrow:before {content: \"▸\";float: left;margin-right: 0.25em;color: #696969;}#sk-container-id-2 label.sk-toggleable__label-arrow:hover:before {color: black;}#sk-container-id-2 div.sk-estimator:hover label.sk-toggleable__label-arrow:before {color: black;}#sk-container-id-2 div.sk-toggleable__content {max-height: 0;max-width: 0;overflow: hidden;text-align: left;background-color: #f0f8ff;}#sk-container-id-2 div.sk-toggleable__content pre {margin: 0.2em;color: black;border-radius: 0.25em;background-color: #f0f8ff;}#sk-container-id-2 input.sk-toggleable__control:checked~div.sk-toggleable__content {max-height: 200px;max-width: 100%;overflow: auto;}#sk-container-id-2 input.sk-toggleable__control:checked~label.sk-toggleable__label-arrow:before {content: \"▾\";}#sk-container-id-2 div.sk-estimator input.sk-toggleable__control:checked~label.sk-toggleable__label {background-color: #d4ebff;}#sk-container-id-2 div.sk-label input.sk-toggleable__control:checked~label.sk-toggleable__label {background-color: #d4ebff;}#sk-container-id-2 input.sk-hidden--visually {border: 0;clip: rect(1px 1px 1px 1px);clip: rect(1px, 1px, 1px, 1px);height: 1px;margin: -1px;overflow: hidden;padding: 0;position: absolute;width: 1px;}#sk-container-id-2 div.sk-estimator {font-family: monospace;background-color: #f0f8ff;border: 1px dotted black;border-radius: 0.25em;box-sizing: border-box;margin-bottom: 0.5em;}#sk-container-id-2 div.sk-estimator:hover {background-color: #d4ebff;}#sk-container-id-2 div.sk-parallel-item::after {content: \"\";width: 100%;border-bottom: 1px solid gray;flex-grow: 1;}#sk-container-id-2 div.sk-label:hover label.sk-toggleable__label {background-color: #d4ebff;}#sk-container-id-2 div.sk-serial::before {content: \"\";position: absolute;border-left: 1px solid gray;box-sizing: border-box;top: 0;bottom: 0;left: 50%;z-index: 0;}#sk-container-id-2 div.sk-serial {display: flex;flex-direction: column;align-items: center;background-color: white;padding-right: 0.2em;padding-left: 0.2em;position: relative;}#sk-container-id-2 div.sk-item {position: relative;z-index: 1;}#sk-container-id-2 div.sk-parallel {display: flex;align-items: stretch;justify-content: center;background-color: white;position: relative;}#sk-container-id-2 div.sk-item::before, #sk-container-id-2 div.sk-parallel-item::before {content: \"\";position: absolute;border-left: 1px solid gray;box-sizing: border-box;top: 0;bottom: 0;left: 50%;z-index: -1;}#sk-container-id-2 div.sk-parallel-item {display: flex;flex-direction: column;z-index: 1;position: relative;background-color: white;}#sk-container-id-2 div.sk-parallel-item:first-child::after {align-self: flex-end;width: 50%;}#sk-container-id-2 div.sk-parallel-item:last-child::after {align-self: flex-start;width: 50%;}#sk-container-id-2 div.sk-parallel-item:only-child::after {width: 0;}#sk-container-id-2 div.sk-dashed-wrapped {border: 1px dashed gray;margin: 0 0.4em 0.5em 0.4em;box-sizing: border-box;padding-bottom: 0.4em;background-color: white;}#sk-container-id-2 div.sk-label label {font-family: monospace;font-weight: bold;display: inline-block;line-height: 1.2em;}#sk-container-id-2 div.sk-label-container {text-align: center;}#sk-container-id-2 div.sk-container {/* jupyter's `normalize.less` sets `[hidden] { display: none; }` but bootstrap.min.css set `[hidden] { display: none !important; }` so we also need the `!important` here to be able to override the default hidden behavior on the sphinx rendered scikit-learn.org. See: https://github.com/scikit-learn/scikit-learn/issues/21755 */display: inline-block !important;position: relative;}#sk-container-id-2 div.sk-text-repr-fallback {display: none;}</style><div id=\"sk-container-id-2\" class=\"sk-top-container\"><div class=\"sk-text-repr-fallback\"><pre>LogisticRegression(random_state=0)</pre><b>In a Jupyter environment, please rerun this cell to show the HTML representation or trust the notebook. <br />On GitHub, the HTML representation is unable to render, please try loading this page with nbviewer.org.</b></div><div class=\"sk-container\" hidden><div class=\"sk-item\"><div class=\"sk-estimator sk-toggleable\"><input class=\"sk-toggleable__control sk-hidden--visually\" id=\"sk-estimator-id-2\" type=\"checkbox\" checked><label for=\"sk-estimator-id-2\" class=\"sk-toggleable__label sk-toggleable__label-arrow\">LogisticRegression</label><div class=\"sk-toggleable__content\"><pre>LogisticRegression(random_state=0)</pre></div></div></div></div></div>"
            ]
          },
          "metadata": {},
          "execution_count": 122
        }
      ]
    },
    {
      "cell_type": "code",
      "source": [
        "from sklearn.linear_model import LogisticRegression\n",
        "\n",
        "# Create a Logistic Regression model with a higher max_iter value\n",
        "logModel = LogisticRegression(max_iter=1000)  # Increase max_iter as needed\n"
      ],
      "metadata": {
        "id": "g7UsZvcDwey2"
      },
      "execution_count": null,
      "outputs": []
    },
    {
      "cell_type": "markdown",
      "metadata": {
        "id": "9GPgx6X4t_Rp"
      },
      "source": [
        "## Model Evaluation"
      ]
    },
    {
      "cell_type": "code",
      "execution_count": null,
      "metadata": {
        "colab": {
          "base_uri": "https://localhost:8080/"
        },
        "id": "3ATMjXC1t_Rq",
        "outputId": "0c0f1121-1237-4533-b95d-531ca096ebac"
      },
      "outputs": [
        {
          "output_type": "execute_result",
          "data": {
            "text/plain": [
              "0.7015221347917817"
            ]
          },
          "metadata": {},
          "execution_count": 129
        }
      ],
      "source": [
        "# Accuracy on the train dataset\n",
        "\n",
        "train_log= logModel.predict(X_train)\n",
        "\n",
        "accuracy_score(y_train,train_log)\n",
        "\n"
      ]
    },
    {
      "cell_type": "code",
      "execution_count": null,
      "metadata": {
        "colab": {
          "base_uri": "https://localhost:8080/"
        },
        "id": "mKetowmFt_Rq",
        "outputId": "0c97031f-e900-4d7d-b8e2-cf3767cb69fb"
      },
      "outputs": [
        {
          "output_type": "execute_result",
          "data": {
            "text/plain": [
              "0.6972111553784861"
            ]
          },
          "metadata": {},
          "execution_count": 130
        }
      ],
      "source": [
        "# Accuracy on the test dataset\n",
        "\n",
        "pred=logModel.predict(X_test)\n",
        "\n",
        "accuracy_score(y_test,pred)\n"
      ]
    },
    {
      "cell_type": "code",
      "execution_count": null,
      "metadata": {
        "id": "lRQr9WGFt_Rq",
        "outputId": "9887cbdf-f83f-49b3-dcca-3f58d1a5c14f"
      },
      "outputs": [
        {
          "data": {
            "text/plain": [
              "0.0"
            ]
          },
          "execution_count": 22,
          "metadata": {},
          "output_type": "execute_result"
        }
      ],
      "source": [
        "f1_score(y_test, pred)\n"
      ]
    },
    {
      "cell_type": "markdown",
      "metadata": {
        "id": "_ZqsjtJ6t_Rq"
      },
      "source": [
        "## Confusion matrix"
      ]
    },
    {
      "cell_type": "markdown",
      "metadata": {
        "id": "qqu46d0st_Rq"
      },
      "source": [
        "## 3- Neural Network"
      ]
    },
    {
      "cell_type": "code",
      "execution_count": null,
      "metadata": {
        "id": "txqph3v9t_Rq"
      },
      "outputs": [],
      "source": [
        "import tensorflow as tf\n",
        "\n",
        "from tensorflow.keras.models import Sequential\n",
        "\n",
        "from tensorflow.keras.layers import Dense\n"
      ]
    },
    {
      "cell_type": "code",
      "execution_count": null,
      "metadata": {
        "scrolled": true,
        "id": "UoOoK_bkt_Rq",
        "outputId": "19c70f5c-b995-42ec-fe03-0b4327b3cfa0"
      },
      "outputs": [
        {
          "name": "stdout",
          "output_type": "stream",
          "text": [
            "Model: \"sequential_7\"\n",
            "_________________________________________________________________\n",
            "Layer (type)                 Output Shape              Param #   \n",
            "=================================================================\n",
            "dense_28 (Dense)             (None, 16)                880       \n",
            "_________________________________________________________________\n",
            "dense_29 (Dense)             (None, 8)                 136       \n",
            "_________________________________________________________________\n",
            "dense_30 (Dense)             (None, 4)                 36        \n",
            "_________________________________________________________________\n",
            "dense_31 (Dense)             (None, 1)                 5         \n",
            "=================================================================\n",
            "Total params: 1,057\n",
            "Trainable params: 1,057\n",
            "Non-trainable params: 0\n",
            "_________________________________________________________________\n"
          ]
        }
      ],
      "source": [
        "# Define model\n",
        "model = Sequential()\n",
        "model.add(Dense(16, input_dim=54, activation= \"relu\"))\n",
        "model.add(Dense(8, activation= \"relu\"))\n",
        "model.add(Dense(4, activation= \"relu\"))\n",
        "model.add(Dense(1, activation='sigmoid'))\n",
        "model.summary() #Print model Summary"
      ]
    },
    {
      "cell_type": "code",
      "execution_count": null,
      "metadata": {
        "id": "xpX5eGcst_Rr"
      },
      "outputs": [],
      "source": [
        "# Compile model\n",
        "model.compile(loss= \"binary_crossentropy\" , optimizer=\"rmsprop\", metrics=[\"accuracy\"])"
      ]
    },
    {
      "cell_type": "code",
      "execution_count": null,
      "metadata": {
        "id": "-IvoGTwct_Rr",
        "outputId": "bdc90c86-0a1a-4540-83c2-dcf2c6df330d"
      },
      "outputs": [
        {
          "name": "stdout",
          "output_type": "stream",
          "text": [
            "Epoch 1/5\n",
            "3452/3452 [==============================] - 3s 727us/step - loss: 6907936.0000 - accuracy: 0.9472\n",
            "Epoch 2/5\n",
            "3452/3452 [==============================] - 2s 663us/step - loss: 6835772.0000 - accuracy: 0.9533\n",
            "Epoch 3/5\n",
            "3452/3452 [==============================] - 2s 675us/step - loss: 3920674.5000 - accuracy: 0.9470\n",
            "Epoch 4/5\n",
            "3452/3452 [==============================] - 2s 677us/step - loss: 4201450.5000 - accuracy: 0.9471\n",
            "Epoch 5/5\n",
            "3452/3452 [==============================] - 2s 675us/step - loss: 2288503.0000 - accuracy: 0.9462\n"
          ]
        },
        {
          "data": {
            "text/plain": [
              "<tensorflow.python.keras.callbacks.History at 0x20c96bbe7c8>"
            ]
          },
          "execution_count": 58,
          "metadata": {},
          "output_type": "execute_result"
        }
      ],
      "source": [
        "# Fit Model\n",
        "model.fit(X_train, y_train, epochs=5, batch_size=32)"
      ]
    },
    {
      "cell_type": "markdown",
      "metadata": {
        "id": "DJ-Pgs9Rt_Rr"
      },
      "source": [
        "## Model evaluation"
      ]
    },
    {
      "cell_type": "code",
      "execution_count": null,
      "metadata": {
        "colab": {
          "base_uri": "https://localhost:8080/"
        },
        "id": "XtHPCZzKt_Rs",
        "outputId": "c8177b59-35c4-4ee4-843f-6304edabc1e8"
      },
      "outputs": [
        {
          "output_type": "stream",
          "name": "stdout",
          "text": [
            "3452/3452 [==============================] - 6s 2ms/step\n"
          ]
        },
        {
          "output_type": "execute_result",
          "data": {
            "text/plain": [
              "0.7015221347917817"
            ]
          },
          "metadata": {},
          "execution_count": 133
        }
      ],
      "source": [
        "# Accuracy on the training dataset\n",
        "trainPred=model.predict(X_train)\n",
        "\n",
        "trainPred=[1 if y>= 0.5 else 0   for y in trainPred]\n",
        "\n",
        "accuracy_score(y_train,trainPred)"
      ]
    },
    {
      "cell_type": "code",
      "execution_count": null,
      "metadata": {
        "colab": {
          "base_uri": "https://localhost:8080/"
        },
        "id": "sNHpx6M6t_Rs",
        "outputId": "96f8d3ca-f086-4b62-9edb-b1b2a0f2a8a8"
      },
      "outputs": [
        {
          "output_type": "stream",
          "name": "stdout",
          "text": [
            "863/863 [==============================] - 1s 1ms/step\n"
          ]
        },
        {
          "output_type": "execute_result",
          "data": {
            "text/plain": [
              "0.6971387178558494"
            ]
          },
          "metadata": {},
          "execution_count": 134
        }
      ],
      "source": [
        "# Accuracy on the test dataset\n",
        "y_prediction=model.predict(X_test)\n",
        "\n",
        "y_prediction=[1 if y>= 0.5 else 0   for y in y_prediction]\n",
        "\n",
        "accuracy_score(y_test, y_prediction)"
      ]
    },
    {
      "cell_type": "code",
      "execution_count": null,
      "metadata": {
        "colab": {
          "base_uri": "https://localhost:8080/"
        },
        "id": "DFbVC_O2t_Rs",
        "outputId": "a6a6da26-c9ba-485b-b8ba-22723a6a669c"
      },
      "outputs": [
        {
          "output_type": "execute_result",
          "data": {
            "text/plain": [
              "array([[19248,     2],\n",
              "       [ 8360,     0]])"
            ]
          },
          "metadata": {},
          "execution_count": 135
        }
      ],
      "source": [
        "confusion_matrix(y_test,y_prediction)"
      ]
    },
    {
      "cell_type": "code",
      "execution_count": null,
      "metadata": {
        "colab": {
          "base_uri": "https://localhost:8080/"
        },
        "id": "hUnTyWr1t_Rt",
        "outputId": "2c77b9ad-b997-445e-cc2c-24c93636bbb9"
      },
      "outputs": [
        {
          "output_type": "execute_result",
          "data": {
            "text/plain": [
              "0.0"
            ]
          },
          "metadata": {},
          "execution_count": 136
        }
      ],
      "source": [
        "f1_score(y_test,y_prediction)"
      ]
    },
    {
      "cell_type": "code",
      "source": [],
      "metadata": {
        "id": "ww-q6d7Pybcw",
        "outputId": "75a15fa9-3bad-4cf1-8f7b-431f71fe335a",
        "colab": {
          "base_uri": "https://localhost:8080/",
          "height": 1000
        }
      },
      "execution_count": null,
      "outputs": [
        {
          "output_type": "display_data",
          "data": {
            "text/plain": [
              "<Figure size 800x600 with 2 Axes>"
            ],
            "image/png": "[encoded data removed]"
          },
          "metadata": {}
        },
        {
          "output_type": "display_data",
          "data": {
            "text/plain": [
              "<Figure size 800x600 with 2 Axes>"
            ],
            "image/png": "[encoded data removed]"
          },
          "metadata": {}
        }
      ]
    },
    {
      "cell_type": "code",
      "source": [
        "import matplotlib.pyplot as plt\n",
        "import numpy as np\n",
        "from sklearn.metrics import confusion_matrix\n",
        "import seaborn as sns\n",
        "\n",
        "# Define a function to plot the confusion matrix with labels\n",
        "def plot_confusion_matrix_with_labels(y_true, y_pred, labels):\n",
        "    cm = confusion_matrix(y_true, y_pred)\n",
        "    plt.figure(figsize=(8, 6))\n",
        "    sns.heatmap(cm, annot=True, fmt=\"d\", cmap=\"Blues\", xticklabels=labels, yticklabels=labels)\n",
        "    plt.xlabel('Predicted')\n",
        "    plt.ylabel('True')\n",
        "    plt.title('Confusion Matrix')\n",
        "\n",
        "    # Adding labels to the cells\n",
        "    for i in range(len(labels)):\n",
        "        for j in range(len(labels)):\n",
        "            plt.text(j + 0.5, i + 0.5, cm[i, j], ha='center', va='center', color='red')\n",
        "\n",
        "    plt.show()\n",
        "\n",
        "# Define labels for your classes (Malware and Legitimate)\n",
        "class_labels = ['Malware', 'Legitimate']\n",
        "\n",
        "# Plot confusion matrix for Random Forest Model\n",
        "plot_confusion_matrix_with_labels(y_test, prediction, class_labels)\n",
        "\n",
        "# Plot confusion matrix for Logistic Regression Model\n",
        "plot_confusion_matrix_with_labels(y_test, pred, class_labels)\n"
      ],
      "metadata": {
        "id": "SE1eAiNEy5L2",
        "outputId": "84031602-9909-4d13-cf26-84e3c5e29ea3",
        "colab": {
          "base_uri": "https://localhost:8080/",
          "height": 1000
        }
      },
      "execution_count": null,
      "outputs": [
        {
          "output_type": "display_data",
          "data": {
            "text/plain": [
              "<Figure size 800x600 with 2 Axes>"
            ],
            "image/png": "[encoded data removed]"
          },
          "metadata": {}
        },
        {
          "output_type": "display_data",
          "data": {
            "text/plain": [
              "<Figure size 800x600 with 2 Axes>"
            ],
            "image/png": "[encoded data removed]"
          },
          "metadata": {}
        }
      ]
    },
    {
      "cell_type": "markdown",
      "source": [],
      "metadata": {
        "id": "cHL2d7KMzcsm"
      }
    },
    {
      "cell_type": "code",
      "source": [
        "import matplotlib.pyplot as plt\n",
        "from sklearn.metrics import confusion_matrix\n",
        "import seaborn as sns\n",
        "\n",
        "# Define a function to plot the confusion matrix with labels and titles\n",
        "def plot_confusion_matrix_with_labels(y_true, y_pred, labels, title):\n",
        "    cm = confusion_matrix(y_true, y_pred)\n",
        "    plt.figure(figsize=(8, 6))\n",
        "    sns.heatmap(cm, annot=True, fmt=\"d\", cmap=\"Blues\", xticklabels=labels, yticklabels=labels)\n",
        "    plt.xlabel('Predicted')\n",
        "    plt.ylabel('True')\n",
        "    plt.title(title)\n",
        "\n",
        "    # Adding labels to the cells\n",
        "    for i in range(len(labels)):\n",
        "        for j in range(len(labels)):\n",
        "            plt.text(j + 0.5, i + 0.5, cm[i, j], ha='center', va='center', color='red')\n",
        "\n",
        "    plt.show()\n",
        "\n",
        "# Define labels for your classes (Malware and Legitimate)\n",
        "class_labels = ['Malware', 'Legitimate']\n",
        "\n",
        "# Plot confusion matrix for Random Forest Model\n",
        "plot_confusion_matrix_with_labels(y_test, prediction, class_labels, 'Random Forest Confusion Matrix')\n",
        "\n",
        "# Plot confusion matrix for Logistic Regression Model\n",
        "plot_confusion_matrix_with_labels(y_test, pred, class_labels, 'Logistic Regression Confusion Matrix')\n"
      ],
      "metadata": {
        "id": "S-h_j2C4zdIN",
        "outputId": "85dc29a6-791a-47b5-bf6b-7c0470ab6977",
        "colab": {
          "base_uri": "https://localhost:8080/",
          "height": 1000
        }
      },
      "execution_count": null,
      "outputs": [
        {
          "output_type": "display_data",
          "data": {
            "text/plain": [
              "<Figure size 800x600 with 2 Axes>"
            ],
            "image/png": "[encoded data removed]"
          },
          "metadata": {}
        },
        {
          "output_type": "display_data",
          "data": {
            "text/plain": [
              "<Figure size 800x600 with 2 Axes>"
            ],
            "image/png": "[encoded data removed]"
          },
          "metadata": {}
        }
      ]
    },
    {
      "cell_type": "code",
      "source": [
        "import matplotlib.pyplot as plt\n",
        "from sklearn.metrics import confusion_matrix\n",
        "import seaborn as sns\n",
        "\n",
        "# Define a function to plot the confusion matrix with labels and titles\n",
        "def plot_confusion_matrix_with_labels(y_true, y_pred, labels, title):\n",
        "    cm = confusion_matrix(y_true, y_pred)\n",
        "    plt.figure(figsize=(8, 6))\n",
        "    sns.heatmap(cm, annot=True, fmt=\"d\", cmap=\"Blues\", xticklabels=labels, yticklabels=labels)\n",
        "    plt.xlabel('Predicted')\n",
        "    plt.ylabel('True')\n",
        "    plt.title(title)\n",
        "\n",
        "    # Adding labels to the cells\n",
        "    for i in range(len(labels)):\n",
        "        for j in range(len(labels)):\n",
        "            plt.text(j + 0.5, i + 0.5, cm[i, j], ha='center', va='center', color='red')\n",
        "\n",
        "    plt.show()\n",
        "\n",
        "# Define labels for your classes (Malware and Legitimate)\n",
        "class_labels = ['Malware', 'Legitimate']\n",
        "\n",
        "# Plot confusion matrix for Random Forest Model\n",
        "plot_confusion_matrix_with_labels(y_test, prediction, class_labels, 'Random Forest Confusion Matrix')\n",
        "\n",
        "# Plot confusion matrix for Logistic Regression Model\n",
        "plot_confusion_matrix_with_labels(y_test, pred, class_labels, 'Logistic Regression Confusion Matrix')\n"
      ],
      "metadata": {
        "id": "U_il4CvEzhEV",
        "outputId": "f781f776-5034-4c6e-ec2b-50cb80031c2c",
        "colab": {
          "base_uri": "https://localhost:8080/",
          "height": 1000
        }
      },
      "execution_count": null,
      "outputs": [
        {
          "output_type": "display_data",
          "data": {
            "text/plain": [
              "<Figure size 800x600 with 2 Axes>"
            ],
            "image/png": "[encoded data removed]"
          },
          "metadata": {}
        },
        {
          "output_type": "display_data",
          "data": {
            "text/plain": [
              "<Figure size 800x600 with 2 Axes>"
            ],
            "image/png": "[encoded data removed]"
          },
          "metadata": {}
        }
      ]
    }
  ],
  "metadata": {
    "kernelspec": {
      "display_name": "Python 3",
      "language": "python",
      "name": "python3"
    },
    "language_info": {
      "codemirror_mode": {
        "name": "ipython",
        "version": 3
      },
      "file_extension": ".py",
      "mimetype": "text/x-python",
      "name": "python",
      "nbconvert_exporter": "python",
      "pygments_lexer": "ipython3",
      "version": "3.7.3"
    },
    "colab": {
      "provenance": [],
      "include_colab_link": true
    }
  },
  "nbformat": 4,
  "nbformat_minor": 0
}